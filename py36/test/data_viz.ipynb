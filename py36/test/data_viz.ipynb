{
 "cells": [
  {
   "cell_type": "code",
   "execution_count": 2,
   "metadata": {},
   "outputs": [],
   "source": [
    "import h5py\n",
    "import numpy as np\n",
    "# import seaborn as sns\n",
    "import matplotlib.pyplot as plt\n",
    "import pandas as pd\n",
    "from scipy.spatial.transform import Rotation as R\n",
    "import manifpy\n",
    "\n",
    "import os\n"
   ]
  },
  {
   "cell_type": "code",
   "execution_count": 41,
   "metadata": {},
   "outputs": [],
   "source": [
    "h5f = h5py.File(\"data/30_minutes.h5\", \"r\")"
   ]
  },
  {
   "cell_type": "code",
   "execution_count": 46,
   "metadata": {},
   "outputs": [],
   "source": [
    "id = 1\n",
    "raw_data = np.array(h5f[f\"tracker{id}\"]) # time, xyz q_wxyz\n",
    "q_ws = raw_data[:, 3:4]\n",
    "raw_data[:, 3:6] = raw_data[:, 4:7]\n",
    "raw_data[:, 6:7] = q_ws #xyz q_xyzw\n",
    "max_sp = np.array([5.0, 5.0, 5.0, np.pi, np.pi, np.pi])/980.0\n",
    "max_sp = np.array([np.inf]*6)\n",
    "\n",
    "process_data = []\n",
    "raw_velocity = []\n",
    "filtered_SE3 = None\n",
    "alpha = 1.0\n",
    "for t in range(raw_data.shape[0]):\n",
    "    if t==0:\n",
    "        filtered_SE3 = manifpy.SE3(raw_data[t])\n",
    "    else:\n",
    "        se3 = manifpy.SE3(raw_data[t]) - filtered_SE3\n",
    "        se3_clipped = se3.coeffs_copy()\n",
    "\n",
    "        se3_clipped = np.clip(se3_clipped, -max_sp, max_sp)\n",
    "        se3_clipped = manifpy.SE3Tangent(se3_clipped)\n",
    "\n",
    "        filtered_SE3 = filtered_SE3 + (se3_clipped*alpha)\n",
    "        raw_velocity.append(se3_clipped.coeffs_copy()*alpha)\n",
    "    \n",
    "    process_data.append(np.hstack([filtered_SE3.translation(), filtered_SE3.quat()]))\n",
    "\n",
    "process_data = np.vstack(process_data)\n",
    "raw_velocity = np.vstack(raw_velocity)*980.0"
   ]
  },
  {
   "cell_type": "code",
   "execution_count": 47,
   "metadata": {},
   "outputs": [],
   "source": [
    "%matplotlib qt \n",
    "\n",
    "start_time_step = 0\n",
    "max_time_step = raw_velocity.shape[0]\n",
    "\n",
    "time = np.arange(max_time_step) / 1000\n",
    "index = np.arange(max_time_step) + start_time_step\n",
    "plt.rcParams[\"figure.figsize\"] = (20, 8)\n",
    "plt.subplot(2,3,1)\n",
    "plt.plot(time, raw_velocity[index, 0], 'b')\n",
    "# plt.plot(time, process_data[index, 0], '--r')\n",
    "\n",
    "plt.subplot(2,3,2)\n",
    "plt.plot(time, raw_velocity[index, 1], 'b')\n",
    "# plt.plot(time, process_data[index, 1], '--r')\n",
    "\n",
    "plt.subplot(2,3,3)\n",
    "plt.plot(time, raw_velocity[index, 2], 'b')\n",
    "# plt.plot(time, process_data[index, 2], '--r')\n",
    "\n",
    "plt.subplot(2,3,4)\n",
    "plt.plot(time, raw_velocity[index, 3], 'b')\n",
    "# plt.plot(time, rpy_mat_proccessed[:,0], '--r')\n",
    "\n",
    "plt.subplot(2,3,5)\n",
    "plt.plot(time, raw_velocity[index, 4], 'b')\n",
    "# plt.plot(time, rpy_mat_proccessed[:,1], '--r')\n",
    "\n",
    "plt.subplot(2,3,6)\n",
    "plt.plot(time, raw_velocity[index, 5], 'b')\n",
    "# plt.plot(time, rpy_mat_proccessed[:,2], '--r')\n",
    "\n",
    "plt.show()\n",
    "# plt.plot(data[:,0])"
   ]
  },
  {
   "cell_type": "code",
   "execution_count": 47,
   "metadata": {},
   "outputs": [],
   "source": [
    "folder = \"25_06_2021_16_37_13_\"\n",
    "rchest_df = pd.read_csv(f\"../data/{folder}/chest_raw.csv\")\n",
    "rrhand_df = pd.read_csv(f\"../data/{folder}/rhand_raw.csv\")\n",
    "rlhand_df = pd.read_csv(f\"../data/{folder}/lhand_raw.csv\")"
   ]
  },
  {
   "cell_type": "code",
   "execution_count": 49,
   "metadata": {},
   "outputs": [],
   "source": [
    "key = \"x\"\n",
    "id = 0\n",
    "start = 10\n",
    "end = rchest_df.shape[0]\n",
    "times = np.arange(end - start)/2000.0"
   ]
  },
  {
   "cell_type": "code",
   "execution_count": 50,
   "metadata": {},
   "outputs": [],
   "source": [
    "rdist = np.linalg.norm(rchest_df.to_numpy()[start:end,:3] - rrhand_df.to_numpy()[start:end,:3], axis=1)\n",
    "ldist = np.linalg.norm(rchest_df.to_numpy()[start:end,:3] - rlhand_df.to_numpy()[start:end,:3], axis=1)"
   ]
  },
  {
   "cell_type": "code",
   "execution_count": 51,
   "metadata": {},
   "outputs": [],
   "source": [
    "# %matplotlib qt\n",
    "# fig, axes = plt.subplots(2, 1)\n",
    "plt.plot(times, rchest_df[key][start:end])\n",
    "# plt.plot(fchest_df[\"x\"][start:end])\n",
    "plt.plot(times, rchest_df[\"status\"][start:end]*0.1)\n",
    "plt.plot(times, rdist)\n",
    "plt.plot(times, ldist)\n",
    "plt.legend([f\"raw {key}\", \"status\"])\n",
    "plt.grid(True)\n",
    "# plt.savefig(f\"../data/{folder}/chest_{key}.jpg\")"
   ]
  },
  {
   "cell_type": "markdown",
   "metadata": {},
   "source": [
    "# SkeletonKinematics DATA"
   ]
  },
  {
   "cell_type": "code",
   "execution_count": 3,
   "metadata": {},
   "outputs": [],
   "source": [
    "# folder = \"13_07_2021_19_13_04_\"\n",
    "# df = pd.read_csv(f\"../../data/{folder}/lsq_joint_data_20200706_sdh_exp2.csv\")\n",
    "# folder = \"14_07_2021_11_33_35_\"\n",
    "\n",
    "folder = \"selected_data/20200706_sdh_exp2_bag\"\n",
    "\n",
    "algos = [\"Huber\", \"LSQ\"]\n",
    "datas = [\"raw\", \"filter\", \"close\", \"pure\"]\n",
    "\n",
    "dfs = []\n",
    "\n",
    "for algo in algos:\n",
    "    for data in datas:\n",
    "        filename = f\"../../data/{folder}/{algo}Kinect_joint_data_{data}.csv\"\n",
    "        if os.path.isfile(filename):\n",
    "            df = pd.read_csv(filename)\n",
    "            dfs.append(df)\n"
   ]
  },
  {
   "cell_type": "code",
   "execution_count": 8,
   "metadata": {},
   "outputs": [
    {
     "data": {
      "text/plain": [
       "Text(0.5, 0.98, 'LEFT_SHOULDER Joint')"
      ]
     },
     "execution_count": 8,
     "metadata": {},
     "output_type": "execute_result"
    }
   ],
   "source": [
    "%matplotlib qt\n",
    "# sec\n",
    "start_time = 0.0\n",
    "end_time = 140.0\n",
    "\n",
    "num_dfs = len(dfs)\n",
    "\n",
    "indicies = []\n",
    "for i in range(num_dfs):\n",
    "        index = dfs[i].index[(dfs[i][\"time(s)\"] >= start_time) & (dfs[i][\"time(s)\"] <= end_time)]\n",
    "        indicies.append(index)\n",
    "\n",
    "keys = [\"body\", \"neck\", \n",
    "        \"left_shoulder\", \"left_upper_arm\" , \"left_lower_arm\", \"left_hand\", \n",
    "        \"right_shoulder\", \"right_upper_arm\" , \"right_lower_arm\", \"right_hand\"]\n",
    "\n",
    "values = range(10)\n",
    "\n",
    "body2id = dict(zip(keys, values))\n",
    "\n",
    "key = \"left_shoulder\"\n",
    "start_id = 3 * body2id[key] + 1\n",
    "\n",
    "fig, axes = plt.subplots(nrows=3, ncols=1)\n",
    "\n",
    "joints = [\"Z\", \"Y\", \"X\"]\n",
    "\n",
    "plot_ids = [0, 3, 4, 5]\n",
    "for i in range(3):\n",
    "        for j in plot_ids:\n",
    "                axes[i].plot(dfs[j][\"time(s)\"][indicies[j]], dfs[j][f\"q{start_id + i}\"][indicies[j]])\n",
    "        axes[i].legend([f\"{j}_algo_{joints[i]}\" for j in plot_ids])\n",
    "        axes[i].grid(True)\n",
    "\n",
    "fig.suptitle(f\"{key.upper()} Joint\")\n",
    "\n",
    "\n"
   ]
  },
  {
   "cell_type": "code",
   "execution_count": null,
   "metadata": {},
   "outputs": [],
   "source": []
  }
 ],
 "metadata": {
  "interpreter": {
   "hash": "42b4a3472bf2239835bf8d6e8a8dab5c558cea28bca044cd67e963adc4d73f1a"
  },
  "kernelspec": {
   "display_name": "Python 3",
   "language": "python",
   "name": "python3"
  },
  "language_info": {
   "codemirror_mode": {
    "name": "ipython",
    "version": 3
   },
   "file_extension": ".py",
   "mimetype": "text/x-python",
   "name": "python",
   "nbconvert_exporter": "python",
   "pygments_lexer": "ipython3",
   "version": "3.7.10"
  }
 },
 "nbformat": 4,
 "nbformat_minor": 2
}
