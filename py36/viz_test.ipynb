{
 "cells": [
  {
   "cell_type": "code",
   "execution_count": 3,
   "metadata": {},
   "outputs": [],
   "source": [
    "import numpy as np\n",
    "import os\n",
    "import time\n",
    "\n",
    "import meshcat\n",
    "import meshcat.geometry as g\n",
    "import meshcat.transformations as tf\n",
    "\n",
    "import manifpy as manif"
   ]
  },
  {
   "cell_type": "code",
   "execution_count": 36,
   "metadata": {},
   "outputs": [],
   "source": [
    "#colord def\n",
    "red = \"0xc92302\"\n",
    "blue = \"0x0902c9\"\n",
    "green = \"0x02e634\"\n",
    "purple = \"0x7802e6\""
   ]
  },
  {
   "cell_type": "code",
   "execution_count": 37,
   "metadata": {},
   "outputs": [
    {
     "name": "stdout",
     "output_type": "stream",
     "text": [
      "You can open the visualizer by visiting the following URL:\n",
      "http://127.0.0.1:7003/static/\n"
     ]
    },
    {
     "data": {
      "text/html": "\n            <div style=\"height: 400px; width: 100%; overflow-x: auto; overflow-y: hidden; resize: both\">\n            <iframe src=\"http://127.0.0.1:7003/static/\" style=\"width: 100%; height: 100%; border: none\"></iframe>\n            </div>\n            ",
      "text/plain": "<IPython.core.display.HTML object>"
     },
     "execution_count": 37,
     "metadata": {},
     "output_type": "execute_result"
    }
   ],
   "source": [
    "vis = meshcat.Visualizer()\n",
    "# vis.open()\n",
    "vis.url()\n",
    "vis.jupyter_cell()\n",
    "\n"
   ]
  },
  {
   "cell_type": "code",
   "execution_count": 42,
   "metadata": {},
   "outputs": [],
   "source": [
    "T1 = manif.SE3.Identity()\n",
    "T2 = manif.SE3.Random()\n",
    "vis[\"box_start\"].set_object(g.Box(np.array([0.1, 0.2, 0.3])), g.MeshLambertMaterial(color=red, reflectivity=0.8))\n",
    "vis[\"box_end\"].set_object(g.Box(np.array([0.1, 0.2, 0.3])), g.MeshLambertMaterial(color=blue, reflectivity=0.8))\n",
    "vis[\"box_noise\"].set_object(g.Box(np.array([0.1, 0.2, 0.3])), g.MeshLambertMaterial(color=green, reflectivity=0.8))\n",
    "vis[\"box_smooth\"].set_object(g.Box(np.array([0.1, 0.2, 0.3])), g.MeshLambertMaterial(color=purple, reflectivity=0.8))\n",
    "\n",
    "\n",
    "\n",
    "#setup\n",
    "vis[\"box_start\"].set_transform(T1.transform())\n",
    "vis[\"box_end\"].set_transform(T2.transform())\n",
    "vis[\"box_noise\"].set_transform(T1.transform())\n",
    "vis[\"box_smooth\"].set_transform(T1.transform())\n"
   ]
  },
  {
   "cell_type": "code",
   "execution_count": 87,
   "metadata": {},
   "outputs": [],
   "source": [
    "alpha = 0.001\n",
    "beta = 0.1\n",
    "noise = 0.1\n",
    "T_tmp = T1\n",
    "T_smooth = T1\n",
    "for i in range(int(1/alpha) + 1):\n",
    "    lamb = i * alpha\n",
    "    # print(lamb)\n",
    "    # T_tmp = (T1.log() * (1 - lamb) + T2.log() * lamb).exp()\n",
    "    T_tmp = T1 + (T2 - T1)* lamb + manif.SE3Tangent.Random() * np.random.rand()*noise\n",
    "    # T_smooth = T_smooth + (T_tmp - T_smooth) * beta\n",
    "    T_smooth = T_smooth + manif.SE3Tangent((T_tmp - T_smooth).coeffs() * beta * np.array([1.0, 1.0, 1.0, 1.0, 1.0, 1.0]))\n",
    "\n",
    "\n",
    "    vis[\"box_noise\"].set_transform(T_tmp.transform())\n",
    "    vis[\"box_smooth\"].set_transform(T_smooth.transform())\n",
    "    time.sleep(0.001)"
   ]
  },
  {
   "cell_type": "code",
   "execution_count": null,
   "metadata": {},
   "outputs": [],
   "source": []
  },
  {
   "cell_type": "code",
   "execution_count": null,
   "metadata": {},
   "outputs": [],
   "source": []
  }
 ],
 "metadata": {
  "kernelspec": {
   "display_name": "Python 3.7.10 64-bit ('general': conda)",
   "name": "python3710jvsc74a57bd028097f7026e48c0f9e095497644d2c92b2499b25db0645575dfac1161e8cbd93"
  },
  "language_info": {
   "codemirror_mode": {
    "name": "ipython",
    "version": 3
   },
   "file_extension": ".py",
   "mimetype": "text/x-python",
   "name": "python",
   "nbconvert_exporter": "python",
   "pygments_lexer": "ipython3",
   "version": "3.7.10"
  },
  "orig_nbformat": 2
 },
 "nbformat": 4,
 "nbformat_minor": 2
}