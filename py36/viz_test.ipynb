{
 "cells": [
  {
   "cell_type": "code",
   "execution_count": 1,
   "metadata": {},
   "outputs": [],
   "source": [
    "import numpy as np\n",
    "import os\n",
    "import time\n",
    "\n",
    "import meshcat\n",
    "import meshcat.geometry as g\n",
    "import meshcat.transformations as tf"
   ]
  },
  {
   "cell_type": "code",
   "execution_count": 3,
   "metadata": {},
   "outputs": [
    {
     "name": "stdout",
     "output_type": "stream",
     "text": [
      "You can open the visualizer by visiting the following URL:\n",
      "http://127.0.0.1:7003/static/\n"
     ]
    },
    {
     "data": {
      "text/html": "\n            <div style=\"height: 400px; width: 100%; overflow-x: auto; overflow-y: hidden; resize: both\">\n            <iframe src=\"http://127.0.0.1:7003/static/\" style=\"width: 100%; height: 100%; border: none\"></iframe>\n            </div>\n            ",
      "text/plain": "<IPython.core.display.HTML object>"
     },
     "execution_count": 3,
     "metadata": {},
     "output_type": "execute_result"
    }
   ],
   "source": [
    "vis = meshcat.Visualizer()\n",
    "# vis.open()\n",
    "vis.url()\n",
    "vis.jupyter_cell()\n"
   ]
  },
  {
   "cell_type": "code",
   "execution_count": 47,
   "metadata": {},
   "outputs": [],
   "source": [
    "# vis.delete()\n",
    "vertex = np.array([[0.1, 0.2, 0.0],[1.1, 0.2,1.0],[0.0, 0.2, 0.1]]).T\n",
    "vis['larm'].set_object(g.Line(g.PointsGeometry(vertex), g.LineBasicMaterial(color=0x17171c, linewidth=10 )))\n",
    "\n",
    "vertex = np.array([[0.0, 0.0, 0.0],[0.0, -0.2, 0.0],[0.0, -0.2, 0.1]]).T\n",
    "vis['rarm'].set_object(g.Line(g.PointsGeometry(vertex), g.LineBasicMaterial(color=0x17171c, linewidth=10 )))\n",
    "\n",
    "vertex = np.array([[0.1, 0.0, -0.5],[0.0, 0.0, 0.1],[0.1, .0, 0.2]]).T\n",
    "vis['spine'].set_object(g.Line(g.PointsGeometry(vertex), g.LineBasicMaterial(color=0x17171c, linewidth=10 )))\n"
   ]
  },
  {
   "cell_type": "code",
   "execution_count": null,
   "metadata": {},
   "outputs": [],
   "source": []
  }
 ],
 "metadata": {
  "kernelspec": {
   "display_name": "Python 3.7.10 64-bit ('general': conda)",
   "name": "python3710jvsc74a57bd028097f7026e48c0f9e095497644d2c92b2499b25db0645575dfac1161e8cbd93"
  },
  "language_info": {
   "codemirror_mode": {
    "name": "ipython",
    "version": 3
   },
   "file_extension": ".py",
   "mimetype": "text/x-python",
   "name": "python",
   "nbconvert_exporter": "python",
   "pygments_lexer": "ipython3",
   "version": "3.7.10"
  },
  "orig_nbformat": 2
 },
 "nbformat": 4,
 "nbformat_minor": 2
}