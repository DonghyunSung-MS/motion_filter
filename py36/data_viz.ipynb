{
 "cells": [
  {
   "cell_type": "code",
   "execution_count": 40,
   "metadata": {},
   "outputs": [],
   "source": [
    "import h5py\n",
    "import numpy as np\n",
    "# import seaborn as sns\n",
    "import matplotlib.pyplot as plt\n",
    "import pandas as pd\n",
    "from scipy.spatial.transform import Rotation as R\n",
    "import manifpy"
   ]
  },
  {
   "cell_type": "code",
   "execution_count": 41,
   "metadata": {},
   "outputs": [],
   "source": [
    "h5f = h5py.File(\"data/30_minutes.h5\", \"r\")"
   ]
  },
  {
   "cell_type": "code",
   "execution_count": 46,
   "metadata": {},
   "outputs": [],
   "source": [
    "id = 1\n",
    "raw_data = np.array(h5f[f\"tracker{id}\"]) # time, xyz q_wxyz\n",
    "q_ws = raw_data[:, 3:4]\n",
    "raw_data[:, 3:6] = raw_data[:, 4:7]\n",
    "raw_data[:, 6:7] = q_ws #xyz q_xyzw\n",
    "max_sp = np.array([5.0, 5.0, 5.0, np.pi, np.pi, np.pi])/980.0\n",
    "max_sp = np.array([np.inf]*6)\n",
    "\n",
    "process_data = []\n",
    "raw_velocity = []\n",
    "filtered_SE3 = None\n",
    "alpha = 1.0\n",
    "for t in range(raw_data.shape[0]):\n",
    "    if t==0:\n",
    "        filtered_SE3 = manifpy.SE3(raw_data[t])\n",
    "    else:\n",
    "        se3 = manifpy.SE3(raw_data[t]) - filtered_SE3\n",
    "        se3_clipped = se3.coeffs_copy()\n",
    "\n",
    "        se3_clipped = np.clip(se3_clipped, -max_sp, max_sp)\n",
    "        se3_clipped = manifpy.SE3Tangent(se3_clipped)\n",
    "\n",
    "        filtered_SE3 = filtered_SE3 + (se3_clipped*alpha)\n",
    "        raw_velocity.append(se3_clipped.coeffs_copy()*alpha)\n",
    "    \n",
    "    process_data.append(np.hstack([filtered_SE3.translation(), filtered_SE3.quat()]))\n",
    "\n",
    "process_data = np.vstack(process_data)\n",
    "raw_velocity = np.vstack(raw_velocity)*980.0"
   ]
  },
  {
   "cell_type": "code",
   "execution_count": 47,
   "metadata": {},
   "outputs": [],
   "source": [
    "%matplotlib qt \n",
    "\n",
    "start_time_step = 0\n",
    "max_time_step = raw_velocity.shape[0]\n",
    "\n",
    "time = np.arange(max_time_step) / 1000\n",
    "index = np.arange(max_time_step) + start_time_step\n",
    "plt.rcParams[\"figure.figsize\"] = (20, 8)\n",
    "plt.subplot(2,3,1)\n",
    "plt.plot(time, raw_velocity[index, 0], 'b')\n",
    "# plt.plot(time, process_data[index, 0], '--r')\n",
    "\n",
    "plt.subplot(2,3,2)\n",
    "plt.plot(time, raw_velocity[index, 1], 'b')\n",
    "# plt.plot(time, process_data[index, 1], '--r')\n",
    "\n",
    "plt.subplot(2,3,3)\n",
    "plt.plot(time, raw_velocity[index, 2], 'b')\n",
    "# plt.plot(time, process_data[index, 2], '--r')\n",
    "\n",
    "plt.subplot(2,3,4)\n",
    "plt.plot(time, raw_velocity[index, 3], 'b')\n",
    "# plt.plot(time, rpy_mat_proccessed[:,0], '--r')\n",
    "\n",
    "plt.subplot(2,3,5)\n",
    "plt.plot(time, raw_velocity[index, 4], 'b')\n",
    "# plt.plot(time, rpy_mat_proccessed[:,1], '--r')\n",
    "\n",
    "plt.subplot(2,3,6)\n",
    "plt.plot(time, raw_velocity[index, 5], 'b')\n",
    "# plt.plot(time, rpy_mat_proccessed[:,2], '--r')\n",
    "\n",
    "plt.show()\n",
    "# plt.plot(data[:,0])"
   ]
  },
  {
   "cell_type": "code",
   "execution_count": 1,
   "metadata": {},
   "outputs": [],
   "source": [
    "import pandas as pd"
   ]
  },
  {
   "cell_type": "code",
   "execution_count": 6,
   "metadata": {},
   "outputs": [
    {
     "data": {
      "text/html": "<div>\n<style scoped>\n    .dataframe tbody tr th:only-of-type {\n        vertical-align: middle;\n    }\n\n    .dataframe tbody tr th {\n        vertical-align: top;\n    }\n\n    .dataframe thead th {\n        text-align: right;\n    }\n</style>\n<table border=\"1\" class=\"dataframe\">\n  <thead>\n    <tr style=\"text-align: right;\">\n      <th></th>\n      <th>x0</th>\n      <th>x1</th>\n      <th>x2</th>\n      <th>x3</th>\n      <th>x4</th>\n    </tr>\n  </thead>\n  <tbody>\n    <tr>\n      <th>0</th>\n      <td>0</td>\n      <td>0</td>\n      <td>0</td>\n      <td>0</td>\n      <td>0</td>\n    </tr>\n    <tr>\n      <th>0</th>\n      <td>0</td>\n      <td>0</td>\n      <td>0</td>\n      <td>0</td>\n      <td>0</td>\n    </tr>\n    <tr>\n      <th>0</th>\n      <td>0</td>\n      <td>0</td>\n      <td>0</td>\n      <td>0</td>\n      <td>0</td>\n    </tr>\n    <tr>\n      <th>0</th>\n      <td>0</td>\n      <td>0</td>\n      <td>0</td>\n      <td>0</td>\n      <td>0</td>\n    </tr>\n    <tr>\n      <th>0</th>\n      <td>0</td>\n      <td>0</td>\n      <td>0</td>\n      <td>0</td>\n      <td>0</td>\n    </tr>\n    <tr>\n      <th>0</th>\n      <td>0</td>\n      <td>0</td>\n      <td>0</td>\n      <td>0</td>\n      <td>0</td>\n    </tr>\n    <tr>\n      <th>0</th>\n      <td>0</td>\n      <td>0</td>\n      <td>0</td>\n      <td>0</td>\n      <td>0</td>\n    </tr>\n    <tr>\n      <th>0</th>\n      <td>0</td>\n      <td>0</td>\n      <td>0</td>\n      <td>0</td>\n      <td>0</td>\n    </tr>\n    <tr>\n      <th>0</th>\n      <td>0</td>\n      <td>0</td>\n      <td>0</td>\n      <td>0</td>\n      <td>0</td>\n    </tr>\n    <tr>\n      <th>0</th>\n      <td>0</td>\n      <td>0</td>\n      <td>0</td>\n      <td>0</td>\n      <td>0</td>\n    </tr>\n  </tbody>\n</table>\n</div>",
      "text/plain": "   x0  x1  x2  x3  x4\n0   0   0   0   0   0\n0   0   0   0   0   0\n0   0   0   0   0   0\n0   0   0   0   0   0\n0   0   0   0   0   0\n0   0   0   0   0   0\n0   0   0   0   0   0\n0   0   0   0   0   0\n0   0   0   0   0   0\n0   0   0   0   0   0"
     },
     "execution_count": 6,
     "metadata": {},
     "output_type": "execute_result"
    }
   ],
   "source": [
    "pd.read_csv(\"../data/test.csv\")"
   ]
  },
  {
   "cell_type": "code",
   "execution_count": null,
   "metadata": {},
   "outputs": [],
   "source": []
  }
 ],
 "metadata": {
  "kernelspec": {
   "display_name": "Python 3.7.10 64-bit ('general': conda)",
   "name": "python3710jvsc74a57bd028097f7026e48c0f9e095497644d2c92b2499b25db0645575dfac1161e8cbd93"
  },
  "language_info": {
   "codemirror_mode": {
    "name": "ipython",
    "version": 3
   },
   "file_extension": ".py",
   "mimetype": "text/x-python",
   "name": "python",
   "nbconvert_exporter": "python",
   "pygments_lexer": "ipython3",
   "version": "3.7.10"
  },
  "orig_nbformat": 2
 },
 "nbformat": 4,
 "nbformat_minor": 2
}